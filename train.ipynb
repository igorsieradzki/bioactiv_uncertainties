{
 "cells": [
  {
   "cell_type": "code",
   "execution_count": null,
   "metadata": {},
   "outputs": [],
   "source": [
    "import os\n",
    "os.environ['CUDA_VISIBLE_DEVICES'] = '2'"
   ]
  },
  {
   "cell_type": "code",
   "execution_count": null,
   "metadata": {},
   "outputs": [],
   "source": [
    "import deepchem as dc\n",
    "import numpy as np\n",
    "from itertools import product\n",
    "from tqdm import tqdm"
   ]
  },
  {
   "cell_type": "code",
   "execution_count": null,
   "metadata": {},
   "outputs": [],
   "source": [
    "def load_data(target, split, i):\n",
    "    \n",
    "    d = np.load(os.path.join(\"./data\", str(target), str(split), str(i)+\".npz\"))\n",
    "    \n",
    "    train_dataset = dc.data.NumpyDataset(X=d[\"x_tr\"], y=d[\"y_tr\"].reshape(-1,1))\n",
    "    test_dataset = dc.data.NumpyDataset(X=d[\"x_te\"], y=d[\"y_te\"].reshape(-1,1))\n",
    "    sim = d[\"sim\"]\n",
    "    \n",
    "    return train_dataset, test_dataset, sim\n",
    "\n",
    "\n",
    "def train_single(train_dataset, test_dataset, save_path):\n",
    "    \n",
    "    reg = dc.models.MultitaskRegressor(n_tasks=1, n_features=1024, layer_sizes=[500, 500, 200], uncertainty=True)\n",
    "    reg.fit(train_dataset, nb_epoch=200)\n",
    "    \n",
    "    y_pred_real = reg.predict(test_dataset)\n",
    "    y_pred_dropout, y_std = reg.predict_uncertainty(test_dataset)\n",
    "    \n",
    "    np.savez(file=save_path, \n",
    "             y_pred=y_pred_real.flatten(),\n",
    "             y_drop_pred=y_pred_dropout.flatten(), \n",
    "             unc=y_std.flatten())\n",
    "\n",
    "def train(data_dir):\n",
    "    \n",
    "    targets = os.listdir(data_dir)\n",
    "    splits = ['bac', 'cv']\n",
    "    split_ids = list(range(5))\n",
    "    \n",
    "    runs = list(product(targets, splits, split_ids))\n",
    "    \n",
    "    for target, split, split_id in tqdm(runs):\n",
    "        \n",
    "        save_path = os.path.join(data_dir, target, split, f\"large_result_{split_id}.npz\")\n",
    "        train_dataset, test_dataset, _ = load_data(target=target, split=split, i=split_id)\n",
    "   \n",
    "        train_single(train_dataset=train_dataset, test_dataset=test_dataset, save_path=save_path)\n",
    "    "
   ]
  },
  {
   "cell_type": "code",
   "execution_count": null,
   "metadata": {},
   "outputs": [],
   "source": [
    "train(data_dir='./data')"
   ]
  }
 ],
 "metadata": {
  "kernelspec": {
   "display_name": "Python [conda env:chem]",
   "language": "python",
   "name": "conda-env-chem-py"
  },
  "language_info": {
   "codemirror_mode": {
    "name": "ipython",
    "version": 3
   },
   "file_extension": ".py",
   "mimetype": "text/x-python",
   "name": "python",
   "nbconvert_exporter": "python",
   "pygments_lexer": "ipython3",
   "version": "3.6.7"
  }
 },
 "nbformat": 4,
 "nbformat_minor": 2
}
